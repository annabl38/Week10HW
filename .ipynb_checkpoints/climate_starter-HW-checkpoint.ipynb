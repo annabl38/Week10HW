{
 "cells": [
  {
   "cell_type": "code",
   "execution_count": 39,
   "metadata": {},
   "outputs": [],
   "source": [
    "%matplotlib inline\n",
    "from matplotlib import style\n",
    "style.use('fivethirtyeight')\n",
    "import matplotlib.pyplot as plt"
   ]
  },
  {
   "cell_type": "code",
   "execution_count": 2,
   "metadata": {},
   "outputs": [],
   "source": [
    "import numpy as np\n",
    "import pandas as pd"
   ]
  },
  {
   "cell_type": "code",
   "execution_count": 3,
   "metadata": {},
   "outputs": [],
   "source": [
    "import datetime as dt\n"
   ]
  },
  {
   "cell_type": "markdown",
   "metadata": {},
   "source": [
    "# Reflect Tables into SQLAlchemy ORM"
   ]
  },
  {
   "cell_type": "code",
   "execution_count": 4,
   "metadata": {},
   "outputs": [],
   "source": [
    "# Python SQL toolkit and Object Relational Mapper\n",
    "import sqlalchemy\n",
    "from sqlalchemy.ext.automap import automap_base\n",
    "from sqlalchemy.orm import Session\n",
    "from sqlalchemy import create_engine, func, inspect, desc"
   ]
  },
  {
   "cell_type": "code",
   "execution_count": 5,
   "metadata": {},
   "outputs": [],
   "source": [
    "engine = create_engine(\"sqlite:///Resources/hawaii.sqlite\")"
   ]
  },
  {
   "cell_type": "code",
   "execution_count": 6,
   "metadata": {},
   "outputs": [],
   "source": [
    "# reflect an existing database into a new model\n",
    "Base = automap_base()\n",
    "# reflect the tables\n",
    "Base.prepare(engine, reflect=True)"
   ]
  },
  {
   "cell_type": "code",
   "execution_count": 7,
   "metadata": {},
   "outputs": [
    {
     "data": {
      "text/plain": [
       "['measurement', 'station']"
      ]
     },
     "execution_count": 7,
     "metadata": {},
     "output_type": "execute_result"
    }
   ],
   "source": [
    "# We can view all of the classes that automap found\n",
    "Base.classes.keys()"
   ]
  },
  {
   "cell_type": "code",
   "execution_count": 57,
   "metadata": {},
   "outputs": [],
   "source": [
    "# Save references to each table\n",
    "Measurement = Base.classes.measurement\n",
    "Station = Base.classes.station"
   ]
  },
  {
   "cell_type": "code",
   "execution_count": 59,
   "metadata": {},
   "outputs": [],
   "source": [
    "# Create our session (link) from Python to the DB\n",
    "session = Session(engine)"
   ]
  },
  {
   "cell_type": "markdown",
   "metadata": {},
   "source": [
    "# Step 1- Climate Analysis and Exploration"
   ]
  },
  {
   "cell_type": "code",
   "execution_count": 10,
   "metadata": {},
   "outputs": [
    {
     "name": "stdout",
     "output_type": "stream",
     "text": [
      "id INTEGER\n",
      "station TEXT\n",
      "date TEXT\n",
      "prcp FLOAT\n",
      "tobs FLOAT\n"
     ]
    }
   ],
   "source": [
    "inspector = inspect(engine)\n",
    "columns = inspector.get_columns('measurement')\n",
    "for c in columns:\n",
    "    print(c['name'], c[\"type\"])"
   ]
  },
  {
   "cell_type": "code",
   "execution_count": 11,
   "metadata": {},
   "outputs": [
    {
     "name": "stdout",
     "output_type": "stream",
     "text": [
      "id INTEGER\n",
      "station TEXT\n",
      "name TEXT\n",
      "latitude FLOAT\n",
      "longitude FLOAT\n",
      "elevation FLOAT\n"
     ]
    }
   ],
   "source": [
    "inspector = inspect(engine)\n",
    "columns = inspector.get_columns('station')\n",
    "for c in columns:\n",
    "    print(c['name'], c[\"type\"])"
   ]
  },
  {
   "cell_type": "markdown",
   "metadata": {},
   "source": [
    "<h2>Precipitation Analysis </h2>"
   ]
  },
  {
   "cell_type": "code",
   "execution_count": 91,
   "metadata": {
    "scrolled": true
   },
   "outputs": [
    {
     "name": "stdout",
     "output_type": "stream",
     "text": [
      "2016-08-23 00:00:00\n"
     ]
    },
    {
     "data": {
      "text/html": [
       "<div>\n",
       "<style scoped>\n",
       "    .dataframe tbody tr th:only-of-type {\n",
       "        vertical-align: middle;\n",
       "    }\n",
       "\n",
       "    .dataframe tbody tr th {\n",
       "        vertical-align: top;\n",
       "    }\n",
       "\n",
       "    .dataframe thead th {\n",
       "        text-align: right;\n",
       "    }\n",
       "</style>\n",
       "<table border=\"1\" class=\"dataframe\">\n",
       "  <thead>\n",
       "    <tr style=\"text-align: right;\">\n",
       "      <th></th>\n",
       "      <th>Precip.</th>\n",
       "    </tr>\n",
       "    <tr>\n",
       "      <th>Date</th>\n",
       "      <th></th>\n",
       "    </tr>\n",
       "  </thead>\n",
       "  <tbody>\n",
       "    <tr>\n",
       "      <th>2016-08-24</th>\n",
       "      <td>0.08</td>\n",
       "    </tr>\n",
       "    <tr>\n",
       "      <th>2016-08-25</th>\n",
       "      <td>0.08</td>\n",
       "    </tr>\n",
       "    <tr>\n",
       "      <th>2016-08-26</th>\n",
       "      <td>0.00</td>\n",
       "    </tr>\n",
       "    <tr>\n",
       "      <th>2016-08-27</th>\n",
       "      <td>0.00</td>\n",
       "    </tr>\n",
       "    <tr>\n",
       "      <th>2016-08-28</th>\n",
       "      <td>0.01</td>\n",
       "    </tr>\n",
       "  </tbody>\n",
       "</table>\n",
       "</div>"
      ],
      "text/plain": [
       "            Precip.\n",
       "Date               \n",
       "2016-08-24     0.08\n",
       "2016-08-25     0.08\n",
       "2016-08-26     0.00\n",
       "2016-08-27     0.00\n",
       "2016-08-28     0.01"
      ]
     },
     "execution_count": 91,
     "metadata": {},
     "output_type": "execute_result"
    }
   ],
   "source": [
    "# Design a query to retrieve the last 12 months of precipitation data and plot the results\n",
    "\n",
    "# Calculate the date 1 year ago from the last data point in the database\n",
    "last_date=session.query(Measurement.date).order_by(Measurement.date.desc()).first()\n",
    "for date in last_date:\n",
    "    last_date_list=date\n",
    "\n",
    "last_date_obj=dt.datetime.strptime(last_date_list, '%Y-%m-%d')\n",
    "first_date=last_date_obj - dt.timedelta(days=365)\n",
    "print(first_date)\n",
    "# Perform a query to retrieve the data and precipitation scores\n",
    "results=session.query(Measurement.date,Measurement.prcp).filter(Measurement.date >= first_date).all()\n",
    "results\n",
    "# Save the query results as a Pandas DataFrame and set the index to the date column\n",
    "df = pd.DataFrame(results, columns=['Date', 'Precip.'])\n",
    "df.set_index('Date', inplace=True)\n",
    "\n",
    "df.head()\n",
    "\n"
   ]
  },
  {
   "cell_type": "code",
   "execution_count": 47,
   "metadata": {},
   "outputs": [
    {
     "data": {
      "image/png": "[encoded data removed]",
      "text/plain": [
       "<Figure size 432x288 with 1 Axes>"
      ]
     },
     "metadata": {},
     "output_type": "display_data"
    }
   ],
   "source": [
    "# Use Pandas Plotting with Matplotlib to plot the data\n",
    "df.plot(title=\"Precipitation\")\n",
    "plt.tight_layout()\n",
    "plt.show()"
   ]
  },
  {
   "cell_type": "code",
   "execution_count": 14,
   "metadata": {},
   "outputs": [
    {
     "data": {
      "text/html": [
       "<div>\n",
       "<style scoped>\n",
       "    .dataframe tbody tr th:only-of-type {\n",
       "        vertical-align: middle;\n",
       "    }\n",
       "\n",
       "    .dataframe tbody tr th {\n",
       "        vertical-align: top;\n",
       "    }\n",
       "\n",
       "    .dataframe thead th {\n",
       "        text-align: right;\n",
       "    }\n",
       "</style>\n",
       "<table border=\"1\" class=\"dataframe\">\n",
       "  <thead>\n",
       "    <tr style=\"text-align: right;\">\n",
       "      <th></th>\n",
       "      <th>Precip.</th>\n",
       "    </tr>\n",
       "  </thead>\n",
       "  <tbody>\n",
       "    <tr>\n",
       "      <th>count</th>\n",
       "      <td>2021.000000</td>\n",
       "    </tr>\n",
       "    <tr>\n",
       "      <th>mean</th>\n",
       "      <td>0.177279</td>\n",
       "    </tr>\n",
       "    <tr>\n",
       "      <th>std</th>\n",
       "      <td>0.461190</td>\n",
       "    </tr>\n",
       "    <tr>\n",
       "      <th>min</th>\n",
       "      <td>0.000000</td>\n",
       "    </tr>\n",
       "    <tr>\n",
       "      <th>25%</th>\n",
       "      <td>0.000000</td>\n",
       "    </tr>\n",
       "    <tr>\n",
       "      <th>50%</th>\n",
       "      <td>0.020000</td>\n",
       "    </tr>\n",
       "    <tr>\n",
       "      <th>75%</th>\n",
       "      <td>0.130000</td>\n",
       "    </tr>\n",
       "    <tr>\n",
       "      <th>max</th>\n",
       "      <td>6.700000</td>\n",
       "    </tr>\n",
       "  </tbody>\n",
       "</table>\n",
       "</div>"
      ],
      "text/plain": [
       "           Precip.\n",
       "count  2021.000000\n",
       "mean      0.177279\n",
       "std       0.461190\n",
       "min       0.000000\n",
       "25%       0.000000\n",
       "50%       0.020000\n",
       "75%       0.130000\n",
       "max       6.700000"
      ]
     },
     "execution_count": 14,
     "metadata": {},
     "output_type": "execute_result"
    }
   ],
   "source": [
    "# Use Pandas to calcualte the summary statistics for the precipitation data\n",
    "df.describe()"
   ]
  },
  {
   "cell_type": "markdown",
   "metadata": {},
   "source": [
    "<h2> Station Analysis </h2>"
   ]
  },
  {
   "cell_type": "code",
   "execution_count": 15,
   "metadata": {},
   "outputs": [
    {
     "data": {
      "text/plain": [
       "9"
      ]
     },
     "execution_count": 15,
     "metadata": {},
     "output_type": "execute_result"
    }
   ],
   "source": [
    "# Design a query to show how many stations are available in this dataset?\n",
    "stations_count=session.query(Measurement.station).group_by(Measurement.station).count()\n",
    "stations_count"
   ]
  },
  {
   "cell_type": "code",
   "execution_count": 16,
   "metadata": {},
   "outputs": [
    {
     "name": "stdout",
     "output_type": "stream",
     "text": [
      "[('USC00519281', 2772), ('USC00519397', 2724), ('USC00513117', 2709), ('USC00519523', 2669), ('USC00516128', 2612), ('USC00514830', 2202), ('USC00511918', 1979), ('USC00517948', 1372), ('USC00518838', 511)]\n",
      "('USC00519281', 2772)\n"
     ]
    }
   ],
   "source": [
    "# What are the most active stations? (i.e. what stations have the most rows)?\n",
    "# List the stations and the counts in descending order.\n",
    "sel=[Measurement.station,func.count(Measurement.id)]\n",
    "active_stations=session.query(*sel).group_by(Measurement.station).order_by(func.count(Measurement.id).desc()).all()\n",
    "print(active_stations)\n",
    "most_active=session.query(*sel).group_by(Measurement.station).order_by(func.count(Measurement.id).desc()).first()\n",
    "print(most_active)"
   ]
  },
  {
   "cell_type": "code",
   "execution_count": 17,
   "metadata": {},
   "outputs": [
    {
     "data": {
      "text/plain": [
       "[(54.0, 85.0, 71.66378066378067)]"
      ]
     },
     "execution_count": 17,
     "metadata": {},
     "output_type": "execute_result"
    }
   ],
   "source": [
    "# Using the station id from the previous query, calculate the lowest temperature recorded, \n",
    "# highest temperature recorded, and average temperature most active station?\n",
    "sel=[func.min(Measurement.tobs),func.max(Measurement.tobs),func.avg(Measurement.tobs)]\n",
    "active_temps=session.query(*sel).filter(Measurement.station==most_active.station).all()\n",
    "active_temps\n"
   ]
  },
  {
   "cell_type": "code",
   "execution_count": 42,
   "metadata": {},
   "outputs": [
    {
     "data": {
      "text/plain": [
       "<matplotlib.axes._subplots.AxesSubplot at 0x1c93f339c18>"
      ]
     },
     "execution_count": 42,
     "metadata": {},
     "output_type": "execute_result"
    },
    {
     "data": {
      "image/png": "[encoded data removed]",
      "text/plain": [
       "<Figure size 432x288 with 1 Axes>"
      ]
     },
     "metadata": {},
     "output_type": "display_data"
    }
   ],
   "source": [
    "# Choose the station with the highest number of temperature observations.\n",
    "# Query the last 12 months of temperature observation data for this station and plot the results as a histogram\n",
    "last_year_temps=session.query(Measurement.tobs).filter(Measurement.station==most_active.station).filter(Measurement.date >= first_date).all()\n",
    "df = pd.DataFrame(last_year_temps, columns=['tobs'])\n",
    "df.head()\n",
    "df.plot.hist(bins=12)"
   ]
  },
  {
   "cell_type": "markdown",
   "metadata": {},
   "source": [
    "<h2> Step 2 </h2>\n",
    "Step 2 Climate App is in climate_flask.py file\n"
   ]
  },
  {
   "cell_type": "markdown",
   "metadata": {},
   "source": [
    "<h1>Optional Section </h1>\n",
    "\n"
   ]
  },
  {
   "cell_type": "markdown",
   "metadata": {},
   "source": [
    "<h2> Temperature Analysis </h2>"
   ]
  },
  {
   "cell_type": "code",
   "execution_count": 19,
   "metadata": {},
   "outputs": [
    {
     "name": "stdout",
     "output_type": "stream",
     "text": [
      "[(62.0, 69.57142857142857, 74.0)]\n"
     ]
    }
   ],
   "source": [
    "# This function called `calc_temps` will accept start date and end date in the format '%Y-%m-%d' \n",
    "# and return the minimum, average, and maximum temperatures for that range of dates\n",
    "def calc_temps(start_date, end_date):\n",
    "    \"\"\"TMIN, TAVG, and TMAX for a list of dates.\n",
    "    \n",
    "    Args:\n",
    "        start_date (string): A date string in the format %Y-%m-%d\n",
    "        end_date (string): A date string in the format %Y-%m-%d\n",
    "        \n",
    "    Returns:\n",
    "        TMIN, TAVE, and TMAX\n",
    "    \"\"\"\n",
    "    \n",
    "    return session.query(func.min(Measurement.tobs), func.avg(Measurement.tobs), func.max(Measurement.tobs)).\\\n",
    "        filter(Measurement.date >= start_date).filter(Measurement.date <= end_date).all()\n",
    "\n",
    "# function usage example\n",
    "print(calc_temps('2012-02-28', '2012-03-05'))"
   ]
  },
  {
   "cell_type": "code",
   "execution_count": 27,
   "metadata": {},
   "outputs": [
    {
     "data": {
      "text/plain": [
       "[(56.0, 65.92727272727272, 73.0)]"
      ]
     },
     "execution_count": 27,
     "metadata": {},
     "output_type": "execute_result"
    }
   ],
   "source": [
    "#Query for trip\n",
    "start_trip='2015-03-06'\n",
    "end_trip='2015-03-13'\n",
    "temps=calc_temps(start_trip,end_trip)\n",
    "temps"
   ]
  },
  {
   "cell_type": "code",
   "execution_count": 41,
   "metadata": {},
   "outputs": [
    {
     "data": {
      "text/plain": [
       "Text(0.5, 1.0, 'Trip Avg Temp')"
      ]
     },
     "execution_count": 41,
     "metadata": {},
     "output_type": "execute_result"
    },
    {
     "data": {
      "image/png": "[encoded data removed]",
      "text/plain": [
       "<Figure size 432x288 with 1 Axes>"
      ]
     },
     "metadata": {},
     "output_type": "display_data"
    }
   ],
   "source": [
    "# Plot the results from your previous query as a bar chart. \n",
    "# Use \"Trip Avg Temp\" as your Title\n",
    "# Use the average temperature for the y value\n",
    "# Use the peak-to-peak (tmax-tmin) value as the y error bar (yerr)\n",
    "err=temps[0][2]-temps[0][0]\n",
    "err\n",
    "plt.bar(0,temps[0][1],yerr=err,color='lightcoral',width=.01)\n",
    "plt.ylabel('Temp(F)')\n",
    "plt.title('Trip Avg Temp')\n",
    "# plt.tick_params(\n",
    "#     axis='x',          \n",
    "#     which='both',      \n",
    "#     bottom=False,      \n",
    "#     top=False,         \n",
    "#     labelbottom=False)\n"
   ]
  },
  {
   "cell_type": "markdown",
   "metadata": {},
   "source": [
    "<h2> Daily Rainfall Average </h2>"
   ]
  },
  {
   "cell_type": "code",
   "execution_count": 72,
   "metadata": {},
   "outputs": [
    {
     "name": "stdout",
     "output_type": "stream",
     "text": [
      "2015-03-06\n",
      "0.92\n",
      "USC00516128\n",
      "MANOA LYON ARBO 785.2, HI US\n",
      "21.3331\n",
      "-157.8025\n",
      "152.4\n",
      "--------\n",
      "2015-03-06\n",
      "0.57\n",
      "USC00519281\n",
      "WAIHEE 837.5, HI US\n",
      "21.45167\n",
      "-157.84888999999998\n",
      "32.9\n",
      "--------\n",
      "2015-03-10\n",
      "0.19\n",
      "USC00519281\n",
      "WAIHEE 837.5, HI US\n",
      "21.45167\n",
      "-157.84888999999998\n",
      "32.9\n",
      "--------\n",
      "2015-03-13\n",
      "0.13\n",
      "USC00514830\n",
      "KUALOA RANCH HEADQUARTERS 886.9, HI US\n",
      "21.5213\n",
      "-157.8374\n",
      "7.0\n",
      "--------\n",
      "2015-03-06\n",
      "0.1\n",
      "USC00519523\n",
      "WAIMANALO EXPERIMENTAL FARM, HI US\n",
      "21.33556\n",
      "-157.71139\n",
      "19.5\n",
      "--------\n",
      "2015-03-06\n",
      "0.09\n",
      "USC00514830\n",
      "KUALOA RANCH HEADQUARTERS 886.9, HI US\n",
      "21.5213\n",
      "-157.8374\n",
      "7.0\n",
      "--------\n",
      "2015-03-06\n",
      "0.06\n",
      "USC00513117\n",
      "KANEOHE 838.1, HI US\n",
      "21.4234\n",
      "-157.8015\n",
      "14.6\n",
      "--------\n",
      "2015-03-13\n",
      "0.06\n",
      "USC00519281\n",
      "WAIHEE 837.5, HI US\n",
      "21.45167\n",
      "-157.84888999999998\n",
      "32.9\n",
      "--------\n",
      "2015-03-10\n",
      "0.03\n",
      "USC00513117\n",
      "KANEOHE 838.1, HI US\n",
      "21.4234\n",
      "-157.8015\n",
      "14.6\n",
      "--------\n",
      "2015-03-09\n",
      "0.03\n",
      "USC00519523\n",
      "WAIMANALO EXPERIMENTAL FARM, HI US\n",
      "21.33556\n",
      "-157.71139\n",
      "19.5\n",
      "--------\n",
      "2015-03-13\n",
      "0.02\n",
      "USC00513117\n",
      "KANEOHE 838.1, HI US\n",
      "21.4234\n",
      "-157.8015\n",
      "14.6\n",
      "--------\n",
      "2015-03-12\n",
      "0.02\n",
      "USC00511918\n",
      "HONOLULU OBSERVATORY 702.2, HI US\n",
      "21.3152\n",
      "-157.9992\n",
      "0.9\n",
      "--------\n",
      "2015-03-07\n",
      "0.02\n",
      "USC00516128\n",
      "MANOA LYON ARBO 785.2, HI US\n",
      "21.3331\n",
      "-157.8025\n",
      "152.4\n",
      "--------\n",
      "2015-03-08\n",
      "0.01\n",
      "USC00513117\n",
      "KANEOHE 838.1, HI US\n",
      "21.4234\n",
      "-157.8015\n",
      "14.6\n",
      "--------\n",
      "2015-03-12\n",
      "0.01\n",
      "USC00514830\n",
      "KUALOA RANCH HEADQUARTERS 886.9, HI US\n",
      "21.5213\n",
      "-157.8374\n",
      "7.0\n",
      "--------\n",
      "2015-03-07\n",
      "0.01\n",
      "USC00519523\n",
      "WAIMANALO EXPERIMENTAL FARM, HI US\n",
      "21.33556\n",
      "-157.71139\n",
      "19.5\n",
      "--------\n",
      "2015-03-10\n",
      "0.01\n",
      "USC00519523\n",
      "WAIMANALO EXPERIMENTAL FARM, HI US\n",
      "21.33556\n",
      "-157.71139\n",
      "19.5\n",
      "--------\n",
      "2015-03-07\n",
      "0.01\n",
      "USC00519281\n",
      "WAIHEE 837.5, HI US\n",
      "21.45167\n",
      "-157.84888999999998\n",
      "32.9\n",
      "--------\n",
      "2015-03-09\n",
      "0.01\n",
      "USC00516128\n",
      "MANOA LYON ARBO 785.2, HI US\n",
      "21.3331\n",
      "-157.8025\n",
      "152.4\n",
      "--------\n",
      "2015-03-13\n",
      "0.01\n",
      "USC00516128\n",
      "MANOA LYON ARBO 785.2, HI US\n",
      "21.3331\n",
      "-157.8025\n",
      "152.4\n",
      "--------\n",
      "2015-03-08\n",
      "0.0\n",
      "USC00519397\n",
      "WAIKIKI 717.2, HI US\n",
      "21.2716\n",
      "-157.8168\n",
      "3.0\n",
      "--------\n",
      "2015-03-09\n",
      "0.0\n",
      "USC00519397\n",
      "WAIKIKI 717.2, HI US\n",
      "21.2716\n",
      "-157.8168\n",
      "3.0\n",
      "--------\n",
      "2015-03-10\n",
      "0.0\n",
      "USC00519397\n",
      "WAIKIKI 717.2, HI US\n",
      "21.2716\n",
      "-157.8168\n",
      "3.0\n",
      "--------\n",
      "2015-03-11\n",
      "0.0\n",
      "USC00519397\n",
      "WAIKIKI 717.2, HI US\n",
      "21.2716\n",
      "-157.8168\n",
      "3.0\n",
      "--------\n",
      "2015-03-13\n",
      "0.0\n",
      "USC00519397\n",
      "WAIKIKI 717.2, HI US\n",
      "21.2716\n",
      "-157.8168\n",
      "3.0\n",
      "--------\n",
      "2015-03-07\n",
      "0.0\n",
      "USC00513117\n",
      "KANEOHE 838.1, HI US\n",
      "21.4234\n",
      "-157.8015\n",
      "14.6\n",
      "--------\n",
      "2015-03-09\n",
      "0.0\n",
      "USC00513117\n",
      "KANEOHE 838.1, HI US\n",
      "21.4234\n",
      "-157.8015\n",
      "14.6\n",
      "--------\n",
      "2015-03-11\n",
      "0.0\n",
      "USC00513117\n",
      "KANEOHE 838.1, HI US\n",
      "21.4234\n",
      "-157.8015\n",
      "14.6\n",
      "--------\n",
      "2015-03-12\n",
      "0.0\n",
      "USC00513117\n",
      "KANEOHE 838.1, HI US\n",
      "21.4234\n",
      "-157.8015\n",
      "14.6\n",
      "--------\n",
      "2015-03-07\n",
      "0.0\n",
      "USC00514830\n",
      "KUALOA RANCH HEADQUARTERS 886.9, HI US\n",
      "21.5213\n",
      "-157.8374\n",
      "7.0\n",
      "--------\n",
      "2015-03-10\n",
      "0.0\n",
      "USC00517948\n",
      "PEARL CITY, HI US\n",
      "21.3934\n",
      "-157.9751\n",
      "11.9\n",
      "--------\n",
      "2015-03-11\n",
      "0.0\n",
      "USC00517948\n",
      "PEARL CITY, HI US\n",
      "21.3934\n",
      "-157.9751\n",
      "11.9\n",
      "--------\n",
      "2015-03-12\n",
      "0.0\n",
      "USC00517948\n",
      "PEARL CITY, HI US\n",
      "21.3934\n",
      "-157.9751\n",
      "11.9\n",
      "--------\n",
      "2015-03-13\n",
      "0.0\n",
      "USC00517948\n",
      "PEARL CITY, HI US\n",
      "21.3934\n",
      "-157.9751\n",
      "11.9\n",
      "--------\n",
      "2015-03-08\n",
      "0.0\n",
      "USC00519523\n",
      "WAIMANALO EXPERIMENTAL FARM, HI US\n",
      "21.33556\n",
      "-157.71139\n",
      "19.5\n",
      "--------\n",
      "2015-03-11\n",
      "0.0\n",
      "USC00519523\n",
      "WAIMANALO EXPERIMENTAL FARM, HI US\n",
      "21.33556\n",
      "-157.71139\n",
      "19.5\n",
      "--------\n",
      "2015-03-08\n",
      "0.0\n",
      "USC00519281\n",
      "WAIHEE 837.5, HI US\n",
      "21.45167\n",
      "-157.84888999999998\n",
      "32.9\n",
      "--------\n",
      "2015-03-09\n",
      "0.0\n",
      "USC00519281\n",
      "WAIHEE 837.5, HI US\n",
      "21.45167\n",
      "-157.84888999999998\n",
      "32.9\n",
      "--------\n",
      "2015-03-11\n",
      "0.0\n",
      "USC00519281\n",
      "WAIHEE 837.5, HI US\n",
      "21.45167\n",
      "-157.84888999999998\n",
      "32.9\n",
      "--------\n",
      "2015-03-12\n",
      "0.0\n",
      "USC00519281\n",
      "WAIHEE 837.5, HI US\n",
      "21.45167\n",
      "-157.84888999999998\n",
      "32.9\n",
      "--------\n",
      "2015-03-06\n",
      "0.0\n",
      "USC00511918\n",
      "HONOLULU OBSERVATORY 702.2, HI US\n",
      "21.3152\n",
      "-157.9992\n",
      "0.9\n",
      "--------\n",
      "2015-03-07\n",
      "0.0\n",
      "USC00511918\n",
      "HONOLULU OBSERVATORY 702.2, HI US\n",
      "21.3152\n",
      "-157.9992\n",
      "0.9\n",
      "--------\n",
      "2015-03-08\n",
      "0.0\n",
      "USC00511918\n",
      "HONOLULU OBSERVATORY 702.2, HI US\n",
      "21.3152\n",
      "-157.9992\n",
      "0.9\n",
      "--------\n",
      "2015-03-09\n",
      "0.0\n",
      "USC00511918\n",
      "HONOLULU OBSERVATORY 702.2, HI US\n",
      "21.3152\n",
      "-157.9992\n",
      "0.9\n",
      "--------\n",
      "2015-03-13\n",
      "0.0\n",
      "USC00511918\n",
      "HONOLULU OBSERVATORY 702.2, HI US\n",
      "21.3152\n",
      "-157.9992\n",
      "0.9\n",
      "--------\n",
      "2015-03-08\n",
      "0.0\n",
      "USC00516128\n",
      "MANOA LYON ARBO 785.2, HI US\n",
      "21.3331\n",
      "-157.8025\n",
      "152.4\n",
      "--------\n",
      "2015-03-10\n",
      "0.0\n",
      "USC00516128\n",
      "MANOA LYON ARBO 785.2, HI US\n",
      "21.3331\n",
      "-157.8025\n",
      "152.4\n",
      "--------\n",
      "2015-03-11\n",
      "0.0\n",
      "USC00516128\n",
      "MANOA LYON ARBO 785.2, HI US\n",
      "21.3331\n",
      "-157.8025\n",
      "152.4\n",
      "--------\n",
      "2015-03-12\n",
      "0.0\n",
      "USC00516128\n",
      "MANOA LYON ARBO 785.2, HI US\n",
      "21.3331\n",
      "-157.8025\n",
      "152.4\n",
      "--------\n",
      "2015-03-06\n",
      "None\n",
      "USC00519397\n",
      "WAIKIKI 717.2, HI US\n",
      "21.2716\n",
      "-157.8168\n",
      "3.0\n",
      "--------\n",
      "2015-03-07\n",
      "None\n",
      "USC00519397\n",
      "WAIKIKI 717.2, HI US\n",
      "21.2716\n",
      "-157.8168\n",
      "3.0\n",
      "--------\n",
      "2015-03-06\n",
      "None\n",
      "USC00517948\n",
      "PEARL CITY, HI US\n",
      "21.3934\n",
      "-157.9751\n",
      "11.9\n",
      "--------\n",
      "2015-03-09\n",
      "None\n",
      "USC00517948\n",
      "PEARL CITY, HI US\n",
      "21.3934\n",
      "-157.9751\n",
      "11.9\n",
      "--------\n",
      "2015-03-13\n",
      "None\n",
      "USC00519523\n",
      "WAIMANALO EXPERIMENTAL FARM, HI US\n",
      "21.33556\n",
      "-157.71139\n",
      "19.5\n",
      "--------\n",
      "2015-03-11\n",
      "None\n",
      "USC00511918\n",
      "HONOLULU OBSERVATORY 702.2, HI US\n",
      "21.3152\n",
      "-157.9992\n",
      "0.9\n",
      "--------\n"
     ]
    }
   ],
   "source": [
    "# Calculate the total amount of rainfall per weather station for your trip dates using the previous year's matching dates.\n",
    "# Sort this in descending order by precipitation amount and list the station, name, latitude, longitude, and elevation\n",
    "rainfall=session.query(Station,Measurement).filter(Station.station==Measurement.station).filter(Measurement.date>=start_trip).filter(Measurement.date<=end_trip).order_by(Measurement.prcp.desc()).all()\n",
    "\n",
    "for record in rainfall:\n",
    "    (station,measurement)=record\n",
    "    print(measurement.date)\n",
    "    print(measurement.prcp)\n",
    "    print(measurement.station)\n",
    "    print(station.name)\n",
    "    print(station.latitude)\n",
    "    print(station.longitude)\n",
    "    print(station.elevation)\n",
    "    print('--------')"
   ]
  },
  {
   "cell_type": "code",
   "execution_count": 73,
   "metadata": {},
   "outputs": [
    {
     "data": {
      "text/plain": [
       "[(62.0, 69.15384615384616, 77.0)]"
      ]
     },
     "execution_count": 73,
     "metadata": {},
     "output_type": "execute_result"
    }
   ],
   "source": [
    "# Create a query that will calculate the daily normals \n",
    "# (i.e. the averages for tmin, tmax, and tavg for all historic data matching a specific month and day)\n",
    "\n",
    "def daily_normals(date):\n",
    "    \"\"\"Daily Normals.\n",
    "    \n",
    "    Args:\n",
    "        date (str): A date string in the format '%m-%d'\n",
    "        \n",
    "    Returns:\n",
    "        A list of tuples containing the daily normals, tmin, tavg, and tmax\n",
    "    \n",
    "    \"\"\"\n",
    "    \n",
    "    sel = [func.min(Measurement.tobs), func.avg(Measurement.tobs), func.max(Measurement.tobs)]\n",
    "    return session.query(*sel).filter(func.strftime(\"%m-%d\", Measurement.date) == date).all()\n",
    "    \n",
    "daily_normals(\"01-01\")"
   ]
  },
  {
   "cell_type": "code",
   "execution_count": 109,
   "metadata": {},
   "outputs": [
    {
     "data": {
      "text/plain": [
       "['03/06/2015',\n",
       " '03/07/2015',\n",
       " '03/08/2015',\n",
       " '03/09/2015',\n",
       " '03/10/2015',\n",
       " '03/11/2015',\n",
       " '03/12/2015',\n",
       " '03/13/2015']"
      ]
     },
     "execution_count": 109,
     "metadata": {},
     "output_type": "execute_result"
    }
   ],
   "source": [
    "# calculate the daily normals for your trip\n",
    "\n",
    "# push each tuple of calculations into a list called `normals`\n",
    "\n",
    "# Set the start and end date of the trip\n",
    "\n",
    "# Use the start and end date to create a range of dates\n",
    "\n",
    "# Stip off the year and save a list of %m-%d strings\n",
    "\n",
    "# Loop through the list of %m-%d strings and calculate the normals for each date\n",
    "\n",
    "from datetime import date, timedelta\n",
    "start_trip_date=dt.datetime.strptime(start_trip, '%Y-%m-%d')\n",
    "end_trip_date=dt.datetime.strptime(end_trip, '%Y-%m-%d')\n",
    "\n",
    "trip_length=end_trip_date-start_trip_date\n",
    "trip_days=[]\n",
    "for day in range(trip_length.days+1):\n",
    "    trip_days.append(start_trip_date + timedelta(day))\n",
    "    \n",
    "mon_dates=[]\n",
    "for day in trip_days:\n",
    "    mon_dates.append(day.strftime(\"%m-%d\"))\n",
    "\n",
    "norms=[]\n",
    "for i in mon_dates:\n",
    "    norms.append(daily_normals(i)[0])\n",
    "\n",
    "trip_dates=[]\n",
    "for day in trip_days:\n",
    "    trip_dates.append(day.strftime('%m/%d/%Y'))\n",
    "\n"
   ]
  },
  {
   "cell_type": "code",
   "execution_count": 112,
   "metadata": {},
   "outputs": [
    {
     "data": {
      "text/html": [
       "<div>\n",
       "<style scoped>\n",
       "    .dataframe tbody tr th:only-of-type {\n",
       "        vertical-align: middle;\n",
       "    }\n",
       "\n",
       "    .dataframe tbody tr th {\n",
       "        vertical-align: top;\n",
       "    }\n",
       "\n",
       "    .dataframe thead th {\n",
       "        text-align: right;\n",
       "    }\n",
       "</style>\n",
       "<table border=\"1\" class=\"dataframe\">\n",
       "  <thead>\n",
       "    <tr style=\"text-align: right;\">\n",
       "      <th></th>\n",
       "      <th>Min Temp</th>\n",
       "      <th>Avg Temp</th>\n",
       "      <th>Max Temp</th>\n",
       "    </tr>\n",
       "  </thead>\n",
       "  <tbody>\n",
       "    <tr>\n",
       "      <th>03/06/2015</th>\n",
       "      <td>60.0</td>\n",
       "      <td>69.203390</td>\n",
       "      <td>76.0</td>\n",
       "    </tr>\n",
       "    <tr>\n",
       "      <th>03/07/2015</th>\n",
       "      <td>60.0</td>\n",
       "      <td>69.172414</td>\n",
       "      <td>78.0</td>\n",
       "    </tr>\n",
       "    <tr>\n",
       "      <th>03/08/2015</th>\n",
       "      <td>59.0</td>\n",
       "      <td>68.724138</td>\n",
       "      <td>78.0</td>\n",
       "    </tr>\n",
       "    <tr>\n",
       "      <th>03/09/2015</th>\n",
       "      <td>57.0</td>\n",
       "      <td>68.561404</td>\n",
       "      <td>75.0</td>\n",
       "    </tr>\n",
       "    <tr>\n",
       "      <th>03/10/2015</th>\n",
       "      <td>57.0</td>\n",
       "      <td>69.122807</td>\n",
       "      <td>75.0</td>\n",
       "    </tr>\n",
       "    <tr>\n",
       "      <th>03/11/2015</th>\n",
       "      <td>60.0</td>\n",
       "      <td>69.892857</td>\n",
       "      <td>82.0</td>\n",
       "    </tr>\n",
       "    <tr>\n",
       "      <th>03/12/2015</th>\n",
       "      <td>62.0</td>\n",
       "      <td>69.888889</td>\n",
       "      <td>80.0</td>\n",
       "    </tr>\n",
       "    <tr>\n",
       "      <th>03/13/2015</th>\n",
       "      <td>56.0</td>\n",
       "      <td>69.296296</td>\n",
       "      <td>77.0</td>\n",
       "    </tr>\n",
       "  </tbody>\n",
       "</table>\n",
       "</div>"
      ],
      "text/plain": [
       "            Min Temp   Avg Temp  Max Temp\n",
       "03/06/2015      60.0  69.203390      76.0\n",
       "03/07/2015      60.0  69.172414      78.0\n",
       "03/08/2015      59.0  68.724138      78.0\n",
       "03/09/2015      57.0  68.561404      75.0\n",
       "03/10/2015      57.0  69.122807      75.0\n",
       "03/11/2015      60.0  69.892857      82.0\n",
       "03/12/2015      62.0  69.888889      80.0\n",
       "03/13/2015      56.0  69.296296      77.0"
      ]
     },
     "execution_count": 112,
     "metadata": {},
     "output_type": "execute_result"
    }
   ],
   "source": [
    "# Load the previous query results into a Pandas DataFrame and add the `trip_dates` range as the `date` index\n",
    "raindf = pd.DataFrame(norms, index=trip_dates,columns=['Min Temp','Avg Temp', 'Max Temp'])\n",
    "\n",
    "raindf"
   ]
  },
  {
   "cell_type": "code",
   "execution_count": 113,
   "metadata": {},
   "outputs": [
    {
     "data": {
      "text/plain": [
       "<matplotlib.axes._subplots.AxesSubplot at 0x1c93fb4dc50>"
      ]
     },
     "execution_count": 113,
     "metadata": {},
     "output_type": "execute_result"
    },
    {
     "data": {
      "image/png": "[encoded data removed]",
      "text/plain": [
       "<Figure size 432x288 with 1 Axes>"
      ]
     },
     "metadata": {},
     "output_type": "display_data"
    }
   ],
   "source": [
    "# Plot the daily normals as an area plot with `stacked=False`\n",
    "raindf.plot.area(stacked=False)"
   ]
  },
  {
   "cell_type": "code",
   "execution_count": null,
   "metadata": {},
   "outputs": [],
   "source": []
  }
 ],
 "metadata": {
  "kernel_info": {
   "name": "python3"
  },
  "kernelspec": {
   "display_name": "Python 3",
   "language": "python",
   "name": "python3"
  },
  "language_info": {
   "codemirror_mode": {
    "name": "ipython",
    "version": 3
   },
   "file_extension": ".py",
   "mimetype": "text/x-python",
   "name": "python",
   "nbconvert_exporter": "python",
   "pygments_lexer": "ipython3",
   "version": "3.7.1"
  },
  "nteract": {
   "version": "0.12.3"
  },
  "varInspector": {
   "cols": {
    "lenName": 16,
    "lenType": 16,
    "lenVar": 40
   },
   "kernels_config": {
    "python": {
     "delete_cmd_postfix": "",
     "delete_cmd_prefix": "del ",
     "library": "var_list.py",
     "varRefreshCmd": "print(var_dic_list())"
    },
    "r": {
     "delete_cmd_postfix": ") ",
     "delete_cmd_prefix": "rm(",
     "library": "var_list.r",
     "varRefreshCmd": "cat(var_dic_list()) "
    }
   },
   "types_to_exclude": [
    "module",
    "function",
    "builtin_function_or_method",
    "instance",
    "_Feature"
   ],
   "window_display": false
  }
 },
 "nbformat": 4,
 "nbformat_minor": 2
}
